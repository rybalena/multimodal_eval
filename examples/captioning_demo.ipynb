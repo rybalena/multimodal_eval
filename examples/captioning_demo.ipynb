{
  "cells": [
    {
      "cell_type": "code",
      "execution_count": null,
      "id": "imports-0001",
      "metadata": {},
      "outputs": [],
      "source": [
        "# 📦 Imports (run this first)\n",
        "import pandas as pd\n",
        "from pathlib import Path\n",
        "from multimodal_eval.orchestrator import run_task\n",
        "from multimodal_eval.configs.tasks_config import CONFIG\n"
      ]
    },
    {
      "cell_type": "code",
      "execution_count": null,
      "id": "run-labeled-0002",
      "metadata": {},
      "outputs": [],
      "source": [
        "# 🚀 Run Captioning on Labeled dataset\n",
        "print(\"🚀 Running Captioning on Labeled dataset…\")\n",
        "run_task(\n",
        "    task=\"captioning\",\n",
        "    dataset_type=\"labeled\",\n",
        "    task_config=CONFIG[\"captioning\"],\n",
        "    sources_mode=\"standard\"\n",
        ")\n",
        "print(\"✅ Finished Captioning on Labeled dataset\")\n"
      ]
    },
    {
      "cell_type": "code",
      "execution_count": null,
      "id": "run-unlabeled-0003",
      "metadata": {},
      "outputs": [],
      "source": [
        "# 🚀 Run Captioning on Unlabeled dataset\n",
        "print(\"🚀 Running Captioning on Unlabeled dataset…\")\n",
        "run_task(\n",
        "    task=\"captioning\",\n",
        "    dataset_type=\"unlabeled\",\n",
        "    task_config=CONFIG[\"captioning\"],\n",
        "    sources_mode=\"standard\"\n",
        ")\n",
        "print(\"✅ Finished Captioning on Unlabeled dataset\")\n"
      ]
    }
  ],
  "metadata": {
    "kernelspec": {
      "display_name": "Python 3 (ipykernel)",
      "language": "python",
      "name": "python3"
    },
    "language_info": {
      "name": "python",
      "version": "3.13.0",
      "mimetype": "text/x-python",
      "codemirror_mode": {
        "name": "ipython",
        "version": 3
      },
      "pygments_lexer": "ipython3",
      "nbconvert_exporter": "python",
      "file_extension": ".py"
    }
  },
  "nbformat": 4,
  "nbformat_minor": 5
}